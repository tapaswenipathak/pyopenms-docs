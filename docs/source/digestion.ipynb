{
 "cells": [
  {
   "cell_type": "markdown",
   "metadata": {},
   "source": [
    "# Digestion\n",
    "\n",
    "## Proteolytic Digestion with Trypsin\n",
    "\n",
    "OpenMS has classes for proteolytic digestion which can be used as\n",
    "follows:"
   ]
  },
  {
   "cell_type": "code",
   "execution_count": null,
   "metadata": {},
   "outputs": [],
   "source": [
    "from pyopenms import *\n",
    "from urllib.request import urlretrieve\n",
    "gh = \"https://raw.githubusercontent.com/OpenMS/pyopenms-extra/master\"\n",
    "urlretrieve (gh + \"/src/data/P02769.fasta\", \"bsa.fasta\")\n",
    "\n",
    "dig = ProteaseDigestion()\n",
    "dig.getEnzymeName() # Trypsin\n",
    "bsa = \"\".join([l.strip() for l in open(\"bsa.fasta\").readlines()[1:]])\n",
    "bsa = AASequence.fromString(bsa)\n",
    "# create all digestion products\n",
    "result = []\n",
    "dig.digest(bsa, result)\n",
    "print(result[4].toString())\n",
    "len(result) # 82 peptides"
   ]
  },
  {
   "cell_type": "markdown",
   "metadata": {},
   "source": [
    "Very short peptides or even single amino acid digestion products are\n",
    "often discarded as they usually contain little information (e.g., can't\n",
    "be used to identify proteins). We now only generate digestion products\n",
    "with a length of 7 to 40."
   ]
  },
  {
   "cell_type": "code",
   "execution_count": null,
   "metadata": {},
   "outputs": [],
   "source": [
    "# only create peptides of length 7-40\n",
    "dig.digest(bsa, result, 7, 40)\n",
    "# print the results\n",
    "for s in result:\n",
    "    print(s.toString())    "
   ]
  },
  {
   "cell_type": "markdown",
   "metadata": {},
   "source": [
    "Enzymatic digestion is often not perfect and sometimes enzymes miss\n",
    "cutting a peptide. We now allow up to two missed cleavages."
   ]
  },
  {
   "cell_type": "code",
   "execution_count": null,
   "metadata": {},
   "outputs": [],
   "source": [
    "# Allow two missed cleavages\n",
    "dig.setMissedCleavages(2)\n",
    "# only create peptides of length 7-40\n",
    "dig.digest(bsa, result, 7, 40)\n",
    "# print the results\n",
    "for s in result:\n",
    "    print(s.toString())"
   ]
  },
  {
   "cell_type": "markdown",
   "metadata": {},
   "source": [
    "## Proteolytic Digestion with Lys-C\n",
    "\n",
    "We can of course also use different enzymes, these are defined in the\n",
    "`Enzymes.xml` file and can be accessed using the `EnzymesDB` object"
   ]
  },
  {
   "cell_type": "code",
   "execution_count": null,
   "metadata": {},
   "outputs": [],
   "source": [
    "names = []\n",
    "ProteaseDB().getAllNames(names)\n",
    "len(names) # at least 25 by default\n",
    "e = ProteaseDB().getEnzyme('Lys-C')\n",
    "e.getRegExDescription()\n",
    "e.getRegEx()"
   ]
  },
  {
   "cell_type": "markdown",
   "metadata": {},
   "source": [
    "Now that we have learned about the other enzymes available, we can use\n",
    "it to cut our protein of interest:"
   ]
  },
  {
   "cell_type": "code",
   "execution_count": null,
   "metadata": {},
   "outputs": [],
   "source": [
    "from urllib.request import urlretrieve\n",
    "gh = \"https://raw.githubusercontent.com/OpenMS/pyopenms-extra/master\"\n",
    "urlretrieve (gh + \"/src/data/P02769.fasta\", \"bsa.fasta\")\n",
    "\n",
    "dig = ProteaseDigestion()\n",
    "dig.setEnzyme('Lys-C')\n",
    "bsa = \"\".join([l.strip() for l in open(\"bsa.fasta\").readlines()[1:]])\n",
    "bsa = AASequence.fromString(bsa)\n",
    "result = []\n",
    "dig.digest(bsa, result)\n",
    "print(result[4].toString())\n",
    "len(result) # 57 peptides"
   ]
  },
  {
   "cell_type": "markdown",
   "metadata": {},
   "source": [
    "We now get different digested peptides (57 vs 82) and the fourth peptide\n",
    "is now `GLVLIAFSQYLQQCPFDEHVK` instead of `DTHK` as with Trypsin (see\n",
    "above).\n",
    "\n",
    "## Oligonucleotide Digestion\n",
    "\n",
    "There are multiple cleavage enzymes available for oligonucleotides,\n",
    "these are defined `Enzymes_RNA.xml` file and can be accessed using the\n",
    "`RNaseDB` object"
   ]
  },
  {
   "cell_type": "code",
   "execution_count": null,
   "metadata": {},
   "outputs": [],
   "source": [
    "db = RNaseDB()\n",
    "names = []\n",
    "db.getAllNames(names)\n",
    "names\n",
    "# Will print out all available enzymes:\n",
    "# ['RNase_U2', 'RNase_T1', 'RNase_H', 'unspecific cleavage', 'no cleavage', 'RNase_MC1', 'RNase_A', 'cusativin']\n",
    "e = db.getEnzyme(\"RNase_T1\")\n",
    "e.getRegEx()\n",
    "e.getThreePrimeGain() "
   ]
  },
  {
   "cell_type": "markdown",
   "metadata": {},
   "source": [
    "We can now use it to cut an oligo:"
   ]
  },
  {
   "cell_type": "code",
   "execution_count": null,
   "metadata": {},
   "outputs": [],
   "source": [
    "oligo = NASequence.fromString(\"pAUGUCGCAG\");\n",
    "\n",
    "dig = RNaseDigestion()\n",
    "dig.setEnzyme(\"RNase_T1\")\n",
    "\n",
    "result = []\n",
    "dig.digest(oligo, result)\n",
    "for fragment in result:\n",
    "  print (fragment)\n",
    "\n",
    "print(\"Looking closer at\", result[0])\n",
    "print(\" Five Prime modification:\", result[0].getFivePrimeMod().getCode())\n",
    "print(\" Three Prime modification:\", result[0].getThreePrimeMod().getCode())\n",
    "for ribo in result[0]:\n",
    "  print (ribo.getCode(), ribo.getMonoMass(), ribo.isModified())"
   ]
  }
 ],
 "nbformat": 4,
 "nbformat_minor": 5,
 "metadata": {}
}
