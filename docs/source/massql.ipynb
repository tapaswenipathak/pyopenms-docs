{
 "cells": [
  {
   "cell_type": "markdown",
   "metadata": {},
   "source": [
    "# Query MSExperiment with MassQL\n",
    "\n",
    "MassQL is a powerful, SQL-like query language for mass spectrometry\n",
    "data. For further information visit the [MassQL\n",
    "documentation](https://mwang87.github.io/MassQueryLanguage_Documentation/).\n",
    "\n",
    "MS data from a `MSExperiment` can be exported to MS1 and MS2 dataframes,\n",
    "which can be queried directly with the `massql` module.\n",
    "\n",
    "**pyopenms.MSExperiment.get_massql_df()**  \n",
    "Exports data from MSExperiment to pandas DataFrames to be used with\n",
    "MassQL.\n",
    "\n",
    "Both dataframes contain the columns: 'i': intensity of a peak 'i_norm':\n",
    "intensity normalized by the maximun intensity in the spectrum\n",
    "'i_tic_norm': intensity normalized by the sum of intensities (TIC) in\n",
    "the spectrum 'mz': mass to charge of a peak 'scan': number of the\n",
    "spectrum 'rt': retention time of the spectrum 'polarity': ion mode of\n",
    "the spectrum as integer value (positive: 1, negative: 2)\n",
    "\n",
    "The MS2 dataframe contains additional columns: 'precmz': mass to charge\n",
    "of the precursor ion 'ms1scan': number of the corresponding MS1 spectrum\n",
    "'charge': charge of the precursor ion\n",
    "\n",
    "**Returns:**\n",
    "\n",
    "ms1_df : **pandas.DataFrame**\n",
    "\n",
    "peak data of MS1 spectra\n",
    "\n",
    "ms2_df : **pandas.DataFrame**\n",
    "\n",
    "peak data of MS2 spectra with precursor information\n",
    "\n",
    "**Example:**\n",
    "\n",
    "Load an example file into a `MSExperiment` and get the MS1 and MS2 data\n",
    "frames for a MassQL query."
   ]
  },
  {
   "cell_type": "code",
   "execution_count": null,
   "metadata": {},
   "outputs": [],
   "source": [
    "from pyopenms import *\n",
    "from massql import msql_engine\n",
    "\n",
    "from urllib.request import urlretrieve\n",
    "url = 'https://raw.githubusercontent.com/OpenMS/pyopenms-extra/master/src/data/'\n",
    "\n",
    "urlretrieve(url+'small.mzML', 'small.mzML')\n",
    "\n",
    "# load MSExperiment\n",
    "exp = MSExperiment()\n",
    "MzMLFile().load('small.mzML', exp)\n",
    "\n",
    "# get MS1 and MS2 dataframes\n",
    "ms1_df, ms2_df = exp.get_massql_df()\n",
    "\n",
    "ms1_df.head()"
   ]
  },
  {
   "cell_type": "markdown",
   "metadata": {},
   "source": [
    "|     | i       | i_norm     | i_tic_norm  | mz      | scan | rt      | polarity |\n",
    "|-----|---------|------------|-------------|---------|------|---------|----------|\n",
    "| 0   | 2105.75 | 0.00455405 | 0.000325626 | 360.696 | 1    | 15.0015 | 1        |\n",
    "| 1   | 1172.47 | 0.00253567 | 0.000181306 | 361.2   | 1    | 15.0015 | 1        |\n",
    "| 2   | 2287.57 | 0.00494729 | 0.000353743 | 361.208 | 1    | 15.0015 | 1        |\n",
    "| 3   | 1547.15 | 0.00334599 | 0.000239246 | 361.621 | 1    | 15.0015 | 1        |\n",
    "| 4   | 1842.32 | 0.00398435 | 0.00028489  | 362.698 | 1    | 15.0015 | 1        |\n",
    "\n",
    "ms1_df.head()\n",
    "\n",
    "Run a query on `ms1_df` and `ms2_df`. If you don't pass the data frames\n",
    "`massql_engine.process_query` will read data from the given file name."
   ]
  },
  {
   "cell_type": "code",
   "execution_count": null,
   "metadata": {},
   "outputs": [],
   "source": [
    "# Executing Query\n",
    "results_df = msql_engine.process_query(\"QUERY scaninfo(MS1DATA) WHERE RTMIN=16\", 'small.mzML', ms1_df=ms1_df, ms2_df=ms2_df)\n",
    "\n",
    "results_df.head()"
   ]
  },
  {
   "cell_type": "markdown",
   "metadata": {},
   "source": [
    "|     | scan | rt      | mslevel | i           | i_norm |\n",
    "|-----|------|---------|---------|-------------|--------|\n",
    "| 0   | 139  | 16.001  | 1       | 6.77786e+06 | 1      |\n",
    "| 1   | 140  | 16.0095 | 1       | 9.65984e+06 | 1      |\n",
    "| 2   | 141  | 16.0185 | 1       | 7.0933e+06  | 1      |\n",
    "| 3   | 143  | 16.0268 | 1       | 7.51255e+06 | 1      |\n",
    "| 4   | 144  | 16.0354 | 1       | 1.01007e+07 | 1      |\n",
    "\n",
    "results_df.head()\n",
    "\n",
    "In the resulting data frame each row represents a scan with the peak\n",
    "intensities summed up."
   ]
  }
 ],
 "nbformat": 4,
 "nbformat_minor": 5,
 "metadata": {}
}
