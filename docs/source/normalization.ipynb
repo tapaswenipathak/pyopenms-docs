{
 "cells": [
  {
   "cell_type": "markdown",
   "metadata": {},
   "source": [
    "# Spectrum normalization\n",
    "\n",
    "Another very basic spectrum processing step is normalization by base\n",
    "peak intensity (the maximum intensity of a spectrum).\n",
    "\n",
    "Let's first load the raw data."
   ]
  },
  {
   "cell_type": "code",
   "execution_count": null,
   "metadata": {},
   "outputs": [],
   "source": [
    "from urllib.request import urlretrieve\n",
    "from pyopenms import *\n",
    "import matplotlib.pyplot as plt\n",
    "\n",
    "gh = \"https://raw.githubusercontent.com/OpenMS/pyopenms-extra/master\"\n",
    "urlretrieve (gh + \"/src/data/peakpicker_tutorial_1_baseline_filtered.mzML\", \"tutorial.mzML\")\n",
    "exp = MSExperiment()\n",
    "MzMLFile().load(\"tutorial.mzML\", exp)\n",
    "plt.bar(exp.getSpectrum(0).get_peaks()[0], exp.getSpectrum(0).get_peaks()[1], snap=False)"
   ]
  },
  {
   "cell_type": "markdown",
   "metadata": {},
   "source": [
    "Now we apply the normalization."
   ]
  },
  {
   "cell_type": "code",
   "execution_count": null,
   "metadata": {},
   "outputs": [],
   "source": [
    "normalizer = Normalizer()\n",
    "param = normalizer.getParameters()\n",
    "param.setValue(\"method\", \"to_one\")\n",
    "normalizer.setParameters(param)\n",
    "\n",
    "normalizer.filterPeakMap(exp)\n",
    "plt.bar(exp.getSpectrum(0).get_peaks()[0], exp.getSpectrum(0).get_peaks()[1], snap=False)  "
   ]
  },
  {
   "cell_type": "markdown",
   "metadata": {},
   "source": [
    "Another way of normalizing is by TIC (total ion count) of the spectrum,\n",
    "which scales intensities so they add up to 1.0 in each spectrum. Try it\n",
    "out for yourself by setting: param.setValue(\"method\", \"to_TIC\")."
   ]
  }
 ],
 "nbformat": 4,
 "nbformat_minor": 5,
 "metadata": {}
}
