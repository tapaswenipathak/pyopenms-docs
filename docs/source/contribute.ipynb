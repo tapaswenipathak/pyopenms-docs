{
 "cells": [
  {
   "cell_type": "markdown",
   "metadata": {},
   "source": [
    "# Contribute\n",
    "\n",
    "Contribution to the pyOpenMS documentation is easy and we would love to\n",
    "expand it with you. To edit a tutorial page you can click on the \"Edit\n",
    "on GitHub\" link at the top of each page. Once you changed (or added new)\n",
    ".rst files you can and open a pull request.\n",
    "\n",
    "(Note that edits you perform on binder don't get stored in this\n",
    "repository. Thus, binder and the displayed jupyter notebooks can not be\n",
    "used to edit the existing documentation. All edits need to happen\n",
    "through the .rst files in the OpenMS/pyopenms-extra repository.)\n",
    "\n",
    "If you are unsure how to do that or want to discuss questions (e.g. your\n",
    "example workflow can be included on this webpage) contact us via the\n",
    "[OpenMS Gitter chat channel](https://gitter.im/OpenMS/OpenMS/)."
   ]
  }
 ],
 "nbformat": 4,
 "nbformat_minor": 5,
 "metadata": {}
}
