{
 "cells": [
  {
   "cell_type": "markdown",
   "metadata": {},
   "source": [
    "# Other MS data formats\n",
    "\n",
    "## Identification data (idXML, mzIdentML, pepXML, protXML)\n",
    "\n",
    "You can store and load identification data from an <span\n",
    "class=\"title-ref\">idXML</span> file as follows:"
   ]
  },
  {
   "cell_type": "code",
   "execution_count": null,
   "metadata": {},
   "outputs": [],
   "source": [
    "from urllib.request import urlretrieve\n",
    "from pyopenms import *\n",
    "gh = gh = \"https://raw.githubusercontent.com/OpenMS/pyopenms-extra/master\"\n",
    "urlretrieve (gh + \"/src/data/IdXMLFile_whole.idXML\", \"test.idXML\")\n",
    "protein_ids = []\n",
    "peptide_ids = []\n",
    "IdXMLFile().load(\"test.idXML\", protein_ids, peptide_ids)\n",
    "IdXMLFile().store(\"test.out.idXML\", protein_ids, peptide_ids)"
   ]
  },
  {
   "cell_type": "markdown",
   "metadata": {},
   "source": [
    "You can store and load identification data from an <span\n",
    "class=\"title-ref\">mzIdentML</span> file as follows:"
   ]
  },
  {
   "cell_type": "code",
   "execution_count": null,
   "metadata": {},
   "outputs": [],
   "source": [
    "from urllib.request import urlretrieve\n",
    "gh = gh = \"https://raw.githubusercontent.com/OpenMS/pyopenms-extra/master\"\n",
    "urlretrieve (gh + \"/src/data/MzIdentML_3runs.mzid\", \"test.mzid\")\n",
    "protein_ids = []\n",
    "peptide_ids = []\n",
    "MzIdentMLFile().load(\"test.mzid\", protein_ids, peptide_ids)\n",
    "MzIdentMLFile().store(\"test.out.mzid\", protein_ids, peptide_ids)"
   ]
  },
  {
   "cell_type": "markdown",
   "metadata": {},
   "source": [
    "You can store and load identification data from a TPP <span\n",
    "class=\"title-ref\">pepXML</span> file as follows:"
   ]
  },
  {
   "cell_type": "code",
   "execution_count": null,
   "metadata": {},
   "outputs": [],
   "source": [
    "from urllib.request import urlretrieve\n",
    "gh = gh = \"https://raw.githubusercontent.com/OpenMS/pyopenms-extra/master\"\n",
    "urlretrieve (gh + \"/src/data/PepXMLFile_test.pepxml\", \"test.pepxml\")\n",
    "protein_ids = []\n",
    "peptide_ids = []\n",
    "PepXMLFile().load(\"test.pepxml\", protein_ids, peptide_ids)\n",
    "PepXMLFile().store(\"test.out.pepxml\", protein_ids, peptide_ids)"
   ]
  },
  {
   "cell_type": "markdown",
   "metadata": {},
   "source": [
    "You can load (storing is not supported) identification data from a TPP\n",
    "<span class=\"title-ref\">protXML</span> file as follows:"
   ]
  },
  {
   "cell_type": "code",
   "execution_count": null,
   "metadata": {},
   "outputs": [],
   "source": [
    "from urllib.request import urlretrieve\n",
    "gh = gh = \"https://raw.githubusercontent.com/OpenMS/pyopenms-extra/master\"\n",
    "urlretrieve (gh + \"/src/data/ProtXMLFile_input_1.protXML\", \"test.protXML\")\n",
    "protein_ids = ProteinIdentification()\n",
    "peptide_ids = PeptideIdentification()\n",
    "ProtXMLFile().load(\"test.protXML\", protein_ids, peptide_ids)\n",
    "# storing protein XML file is not yet supported"
   ]
  },
  {
   "cell_type": "markdown",
   "metadata": {},
   "source": [
    "note how each data file produces two vectors of type\n",
    "`ProteinIdentification` and `PeptideIdentification` which also means\n",
    "that conversion between two data types is trivial: load data from one\n",
    "data file and use the storage function of the other file.\n",
    "\n",
    "## Quantiative data (featureXML, consensusXML)\n",
    "\n",
    "OpenMS stores quantitative information in the internal `featureXML` and\n",
    "`consensusXML` data formats. The `featureXML` format is used to store\n",
    "quantitative data from a single LC-MS/MS run while the `consensusXML` is\n",
    "used to store quantitative data from multiple LC-MS/MS runs. These can\n",
    "be accessed as follows:"
   ]
  },
  {
   "cell_type": "code",
   "execution_count": null,
   "metadata": {},
   "outputs": [],
   "source": [
    "from urllib.request import urlretrieve\n",
    "gh = gh = \"https://raw.githubusercontent.com/OpenMS/pyopenms-extra/master\"\n",
    "urlretrieve (gh + \"/src/data/FeatureFinderCentroided_1_output.featureXML\", \"test.featureXML\")\n",
    "features = FeatureMap()\n",
    "FeatureXMLFile().load(\"test.featureXML\", features)\n",
    "FeatureXMLFile().store(\"test.out.featureXML\", features)"
   ]
  },
  {
   "cell_type": "markdown",
   "metadata": {},
   "source": [
    "and for `consensusXML`"
   ]
  },
  {
   "cell_type": "code",
   "execution_count": null,
   "metadata": {},
   "outputs": [],
   "source": [
    "from urllib.request import urlretrieve\n",
    "gh = gh = \"https://raw.githubusercontent.com/OpenMS/pyopenms-extra/master\"\n",
    "urlretrieve (gh + \"/src/data/ConsensusXMLFile_1.consensusXML\", \"test.consensusXML\")\n",
    "consensus_features = ConsensusMap()\n",
    "ConsensusXMLFile().load(\"test.consensusXML\", consensus_features)\n",
    "ConsensusXMLFile().store(\"test.out.consensusXML\", consensus_features)"
   ]
  },
  {
   "cell_type": "markdown",
   "metadata": {},
   "source": [
    "## Transition data (TraML)\n",
    "\n",
    "The TraML data format allows you to store transition information for\n",
    "targeted experiments (SRM / MRM / PRM / DIA)."
   ]
  },
  {
   "cell_type": "code",
   "execution_count": null,
   "metadata": {},
   "outputs": [],
   "source": [
    "from urllib.request import urlretrieve\n",
    "gh = \"https://raw.githubusercontent.com/OpenMS/pyopenms-extra/master\"\n",
    "urlretrieve (gh + \"/src/data/ConvertTSVToTraML_output.TraML\", \"test.TraML\")\n",
    "targeted_exp = TargetedExperiment()\n",
    "TraMLFile().load(\"test.TraML\", targeted_exp)\n",
    "TraMLFile().store(\"test.out.TraML\", targeted_exp)"
   ]
  }
 ],
 "nbformat": 4,
 "nbformat_minor": 5,
 "metadata": {}
}
