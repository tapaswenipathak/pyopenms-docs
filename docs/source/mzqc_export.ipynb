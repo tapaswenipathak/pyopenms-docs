{
 "cells": [
  {
   "cell_type": "markdown",
   "metadata": {},
   "source": [
    "# Quality Control\n",
    "\n",
    "With `MzQCFile` pyOpenMS provides a tool to export quality control data\n",
    "from an experiment to a mzQC file following the [HUPO-PSI\n",
    "specifications](https://github.com/HUPO-PSI/mzQC). MzQC is a reporting\n",
    "and exchange format for mass spectrometry quality control data in JSON\n",
    "format.\n",
    "\n",
    "`MzQCFile.store()` requires, besides the `input_file` and `output_file`\n",
    "path, at least a `MSExperiment`. Optionally, a `FeatureMap` and/or lists\n",
    "of `ProteinIdentification` and `PeptideIdentification` can be provided\n",
    "to calculate additional proteomics and metabolomics quality metrics."
   ]
  },
  {
   "cell_type": "code",
   "execution_count": null,
   "metadata": {},
   "outputs": [],
   "source": [
    "from pyopenms import *\n",
    "\n",
    "from urllib.request import urlretrieve\n",
    "gh = \"https://raw.githubusercontent.com/OpenMS/pyopenms-extra/master\"\n",
    "\n",
    "# minimal required informations are input_file, output_file and a MSExperiment\n",
    "input_file = 'QCCalculator_input.mzML'\n",
    "output_file = 'result.mzQC'\n",
    "\n",
    "# load mzML file in MSExperiment\n",
    "urlretrieve (gh + \"/src/data/QCCalculator_input.mzML\", 'input.mzML')\n",
    "exp = MSExperiment()\n",
    "MzMLFile().load('input.mzML', exp)\n",
    "\n",
    "# prepare metadata for the mzQC file (optional but recommended)\n",
    "contact_name = 'name of the person creating the mzQC file'\n",
    "contact_address = 'contact address (mail/e-mail or phone) of the person creating the mzQC file'\n",
    "description = 'description and comments about the mzQC file contents'\n",
    "label = 'unique and informative label for the run'\n",
    "\n",
    "feature_map = FeatureMap()\n",
    "# OPTIONAL: load featureXML file in FeatureMap()\n",
    "urlretrieve (gh + \"/src/data/FeatureFinderMetaboIdent_1_output.featureXML\", 'features.featureXML')\n",
    "FeatureXMLFile().load('features.featureXML', feature_map)\n",
    "\n",
    "prot_ids = [] # list of ProteinIdentification()\n",
    "pep_ids = [] # list of PeptideIdentification()\n",
    "# OPTIONAL: get protein and peptide identifications from idXML file\n",
    "urlretrieve (gh + \"/src/data/OpenPepXL_output.idXML\", 'ids.idXML')\n",
    "IdXMLFile().load('ids.idXML', prot_ids, pep_ids)\n",
    "\n",
    "# create MzQCFile object and use store() to calculate and write the mzQC file\n",
    "mzqc = MzQCFile()\n",
    "mzqc.store(input_file, output_file, exp, # minimal required information\n",
    "        contact_name, contact_address, description, label, # optional, but recommended, can be empty\n",
    "        feature_map, prot_ids, pep_ids) # optional, can be empty"
   ]
  }
 ],
 "nbformat": 4,
 "nbformat_minor": 5,
 "metadata": {}
}
